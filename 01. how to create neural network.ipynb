{
 "cells": [
  {
   "cell_type": "markdown",
   "id": "022adae3",
   "metadata": {},
   "source": [
    "Neural Network with one input and one output"
   ]
  },
  {
   "cell_type": "code",
   "execution_count": 1,
   "id": "7d689bc2",
   "metadata": {},
   "outputs": [],
   "source": [
    "# The network:\n",
    "\n",
    "weight = 0.2 \n",
    "def my_neural_network(input, weight):\n",
    "    prediction = input * weight\n",
    "    return prediction\n"
   ]
  },
  {
   "cell_type": "code",
   "execution_count": 4,
   "id": "e1444faf",
   "metadata": {},
   "outputs": [
    {
     "name": "stdout",
     "output_type": "stream",
     "text": [
      "1.7000000000000002\n"
     ]
    }
   ],
   "source": [
    "# How we use the network to predict something:\n",
    "\n",
    "number_of_years = [8.5, 9.5, 10, 9]\n",
    "input = number_of_years[0]\n",
    "pred = my_neural_network(input,weight)\n",
    "print(pred)"
   ]
  },
  {
   "cell_type": "markdown",
   "id": "cd351285",
   "metadata": {},
   "source": [
    "Neural network accepts an input variable as information and a weight variable as knowledge and outputs a prediction.It uses the knowledge in the weights to interpret the information in the input data.\n",
    "Another way to think about a neural network’s weight value is as a measure of sensitivity \n",
    "between the input of the network and its prediction. If the weight is very high, then even the \n",
    "tiniest input can create a really large prediction! If the weight is very small, then even large \n",
    "inputs will make small predictions."
   ]
  },
  {
   "cell_type": "markdown",
   "id": "b2ff5c46",
   "metadata": {},
   "source": [
    "## Making a Prediction with Multiple Inputs\n",
    "used in prediction"
   ]
  },
  {
   "cell_type": "code",
   "execution_count": 16,
   "id": "602be269",
   "metadata": {},
   "outputs": [],
   "source": [
    "def cal_weightedsum(a,b):# weighted sum also called dot product\n",
    "    assert(len(a) == len(b))\n",
    "    output = 0\n",
    "    for i in range(len(a)):\n",
    "        output += (a[i] * b[i])\n",
    "    return output"
   ]
  },
  {
   "cell_type": "code",
   "execution_count": 17,
   "id": "64c9ac1a",
   "metadata": {},
   "outputs": [],
   "source": [
    "weights = [0.1, 0.2, 0] \n",
    "    \n",
    "def my_neural_network(input, weights):\n",
    "    pred = cal_weightedsum(input,weights)\n",
    "    return pred\n"
   ]
  },
  {
   "cell_type": "code",
   "execution_count": 18,
   "id": "72a1aa8f",
   "metadata": {},
   "outputs": [
    {
     "name": "stdout",
     "output_type": "stream",
     "text": [
      "0.9800000000000001\n"
     ]
    }
   ],
   "source": [
    "eng =  [8.5, 9.5, 9.9, 9.0]\n",
    "hindi = [0.65, 0.8, 0.8, 0.9]\n",
    "maths = [1.2, 1.3, 0.5, 1.0]\n",
    "\n",
    "# Input corresponds to every entry\n",
    "# for the first game of the season.\n",
    "\n",
    "input = [eng[0],hindi[0],maths[0]]\n",
    "pred = my_neural_network(input,weights)\n",
    "print(pred)"
   ]
  },
  {
   "cell_type": "markdown",
   "id": "ce3bff4a",
   "metadata": {},
   "source": [
    "## with numpy\n",
    "no need of cal_weightedsum function"
   ]
  },
  {
   "cell_type": "code",
   "execution_count": 20,
   "id": "a359d303",
   "metadata": {},
   "outputs": [
    {
     "name": "stdout",
     "output_type": "stream",
     "text": [
      "0.9800000000000001\n"
     ]
    }
   ],
   "source": [
    "import numpy as np\n",
    "weights = np.array([0.1, 0.2, 0])\n",
    "def my_neural_network(input, weights):\n",
    "    pred = input.dot(weights)# substitute of cal_weightedsum function\n",
    "    return pred\n",
    "    \n",
    "eng =  np.array([8.5, 9.5, 9.9, 9.0])\n",
    "hindi = np.array([0.65, 0.8, 0.8, 0.9])\n",
    "maths = np.array([1.2, 1.3, 0.5, 1.0])\n",
    "\n",
    "# Input corresponds to every entry\n",
    "# for the first game of the season.\n",
    "\n",
    "input = np.array([eng[0],hindi[0],maths[0]])\n",
    "pred = my_neural_network(input,weights)\n",
    "\n",
    "print(pred)"
   ]
  },
  {
   "cell_type": "markdown",
   "id": "8a8a469b",
   "metadata": {},
   "source": [
    "## Making a Prediction with Multiple Outputs\n",
    "used in classification"
   ]
  },
  {
   "cell_type": "code",
   "execution_count": 22,
   "id": "63796bf8",
   "metadata": {},
   "outputs": [
    {
     "name": "stdout",
     "output_type": "stream",
     "text": [
      "[0.195, 0.13, 0.5850000000000001]\n"
     ]
    }
   ],
   "source": [
    "def ele_mul(number,vector):\n",
    "    output = [0,0,0]\n",
    "    assert(len(output) == len(vector))\n",
    "    for i in range(len(vector)):\n",
    "        output[i] = number * vector[i]\n",
    "    return output\n",
    "\n",
    "weights = [0.3, 0.2, 0.9] \n",
    "\n",
    "def my_neural_network(input, weights):\n",
    "    pred = ele_mul(input,weights)\n",
    "    return pred\n",
    "    \n",
    "marks = [0.65, 0.8, 0.8, 0.9]\n",
    "input = marks[0]\n",
    "pred = my_neural_network(input,weights)\n",
    "\n",
    "print(pred)"
   ]
  },
  {
   "cell_type": "markdown",
   "id": "f0849240",
   "metadata": {},
   "source": [
    "## Predicting with Multiple Inputs & Outputs\n",
    "mostly used in image and nlp"
   ]
  },
  {
   "cell_type": "markdown",
   "id": "c60aace8",
   "metadata": {},
   "source": [
    "a weight connects each \n",
    "input node to each output node, and prediction occurs in the usual way."
   ]
  },
  {
   "cell_type": "code",
   "execution_count": 24,
   "id": "f67b9417",
   "metadata": {},
   "outputs": [
    {
     "name": "stdout",
     "output_type": "stream",
     "text": [
      "[0.555, 0.9800000000000001, 0.9650000000000001]\n"
     ]
    }
   ],
   "source": [
    "# weights are taken as column vector, \n",
    "# where each row contains number of weights equal to number of inputs and vector length equal to number of outputs\n",
    "\n",
    "\n",
    "weights = [ [0.1, 0.1, -0.3], #pass\n",
    "            [0.1, 0.2, 0.0], # fail\n",
    "            [0.0, 1.3, 0.1] ] # compartment\n",
    "\n",
    "def w_sum(a,b):\n",
    "    assert(len(a) == len(b))\n",
    "    output = 0\n",
    "    for i in range(len(a)):\n",
    "        output += (a[i] * b[i])\n",
    "    return output\n",
    "\n",
    "def vect_mat_mul(vect,matrix):\n",
    "    assert(len(vect) == len(matrix))\n",
    "    output = [0,0,0]\n",
    "    for i in range(len(vect)):\n",
    "        output[i] = w_sum(vect,matrix[i])\n",
    "    return output\n",
    "\n",
    "def neural_network(input, weights):\n",
    "    pred = vect_mat_mul(input,weights)\n",
    "    return pred\n",
    "\n",
    "\n",
    "\n",
    "eng =  [8.5, 9.5, 9.9, 9.0]\n",
    "hindi = [0.65,0.8, 0.8, 0.9]\n",
    "maths = [1.2, 1.3, 0.5, 1.0]\n",
    "\n",
    "# Input corresponds to every entry\n",
    "# for the first game of the season.\n",
    "\n",
    "input = [eng[0],hindi[0],maths[0]]\n",
    "pred = neural_network(input,weights)\n",
    "\n",
    "print(pred)"
   ]
  },
  {
   "cell_type": "markdown",
   "id": "d4352bd9",
   "metadata": {},
   "source": [
    "## Predicting on Predictions\n",
    "\n",
    "introducing hidden layer between input and output layer"
   ]
  },
  {
   "cell_type": "code",
   "execution_count": 26,
   "id": "b32ebb83",
   "metadata": {},
   "outputs": [
    {
     "name": "stdout",
     "output_type": "stream",
     "text": [
      "[0.21350000000000002, 0.14500000000000002, 0.5065]\n"
     ]
    }
   ],
   "source": [
    "#toes %win #fans\n",
    "ih_wgt = [ [0.1, 0.2, -0.1], #hidden layer first neuron [0]\n",
    "           [-0.1,0.1, 0.9], #hidden layer second neuron[1]\n",
    "           [0.1, 0.4, 0.1] ] #hidden layer third neuron[2]\n",
    "\n",
    "           #hid[0] hid[1] hid[2]\n",
    "hp_wgt = [ [0.3, 1.1, -0.3], #pass \n",
    "           [0.1, 0.2, 0.0], # fail\n",
    "           [0.0, 1.3, 0.1] ] #compartment\n",
    "\n",
    "weights = [ih_wgt, hp_wgt]\n",
    "\n",
    "def my_neural_network(input, weights):\n",
    "    hid = vect_mat_mul(input,weights[0])\n",
    "    pred = vect_mat_mul(hid,weights[1])\n",
    "    return pred\n",
    "\n",
    "eng =  [8.5, 9.5, 9.9, 9.0]\n",
    "hindi = [0.65,0.8, 0.8, 0.9]\n",
    "maths = [1.2, 1.3, 0.5, 1.0]\n",
    "\n",
    "# Input corresponds to every entry\n",
    "# for the first game of the season.\n",
    "\n",
    "input = [eng[0],hindi[0],maths[0]]\n",
    "pred = my_neural_network(input,weights)\n",
    "\n",
    "print(pred)"
   ]
  },
  {
   "cell_type": "code",
   "execution_count": 31,
   "id": "f52e75c4",
   "metadata": {},
   "outputs": [
    {
     "name": "stdout",
     "output_type": "stream",
     "text": [
      "[0.2135 0.145  0.5065]\n"
     ]
    }
   ],
   "source": [
    "# numpy version of above code\n",
    "import numpy as np\n",
    "\n",
    "ih_wgt = np.array([ \n",
    "            [0.1, 0.2, -0.1], #hidden layer first neuron [0]\n",
    "            [-0.1,0.1, 0.9], #hidden layer second neuron[1]\n",
    "            [0.1, 0.4, 0.1]]).T #hidden layer third neuron[2]\n",
    "\n",
    "\n",
    "           #hid[0] hid[1] hid[2]\n",
    "hp_wgt = np.array( [ [0.3, 1.1, -0.3], #pass \n",
    "           [0.1, 0.2, 0.0], # fail\n",
    "           [0.0, 1.3, 0.1] ]).T #compartment\n",
    "\n",
    "weights = [ih_wgt, hp_wgt]\n",
    "\n",
    "def my_neural_network(input, weights):\n",
    "\n",
    "    hid = input.dot(weights[0])\n",
    "    pred = hid.dot(weights[1])\n",
    "    return pred\n",
    "\n",
    "\n",
    "eng =  np.array([8.5, 9.5, 9.9, 9.0])\n",
    "hindi = np.array([0.65,0.8, 0.8, 0.9])\n",
    "maths = np.array([1.2, 1.3, 0.5, 1.0])\n",
    "\n",
    "input = np.array([eng[0],hindi[0],maths[0]])\n",
    "\n",
    "pred = my_neural_network(input,weights)\n",
    "print(pred)"
   ]
  },
  {
   "cell_type": "markdown",
   "id": "68d856b3",
   "metadata": {},
   "source": [
    "## learning numpy for deep learning"
   ]
  },
  {
   "cell_type": "code",
   "execution_count": 32,
   "id": "07f523e0",
   "metadata": {},
   "outputs": [
    {
     "name": "stdout",
     "output_type": "stream",
     "text": [
      "[0 1 2 3]\n",
      "[4 5 6 7]\n",
      "[[0 1 2 3]\n",
      " [4 5 6 7]]\n",
      "[[0. 0. 0. 0.]\n",
      " [0. 0. 0. 0.]]\n",
      "[[0.00874875 0.29014907 0.10504218 0.24350188 0.6741979 ]\n",
      " [0.12125314 0.56265012 0.81307577 0.81915729 0.75874036]]\n"
     ]
    }
   ],
   "source": [
    "import numpy as np\n",
    "\n",
    "a = np.array([0,1,2,3]) # a vector\n",
    "b = np.array([4,5,6,7]) # another vector\n",
    "c = np.array([[0,1,2,3], # a matrix\n",
    "              [4,5,6,7]])\n",
    "\n",
    "d = np.zeros((2,4)) # (2x4 matrix of zeros)\n",
    "e = np.random.rand(2,5) # random 2x5\n",
    "# matrix with all numbers between 0 and 1\n",
    "\n",
    "print(a)\n",
    "print(b)\n",
    "print(c)\n",
    "print(d)\n",
    "print(e)"
   ]
  },
  {
   "cell_type": "code",
   "execution_count": 33,
   "id": "6a350913",
   "metadata": {},
   "outputs": [
    {
     "name": "stdout",
     "output_type": "stream",
     "text": [
      "[0.  0.1 0.2 0.3]\n",
      "[[0.  0.2 0.4 0.6]\n",
      " [0.8 1.  1.2 1.4]]\n",
      "[ 0  5 12 21]\n",
      "[0.  1.  2.4 4.2]\n",
      "[[ 0  1  4  9]\n",
      " [ 0  5 12 21]]\n"
     ]
    },
    {
     "ename": "ValueError",
     "evalue": "operands could not be broadcast together with shapes (4,) (2,5) ",
     "output_type": "error",
     "traceback": [
      "\u001b[1;31m---------------------------------------------------------------------------\u001b[0m",
      "\u001b[1;31mValueError\u001b[0m                                Traceback (most recent call last)",
      "\u001b[1;32m<ipython-input-33-d1fc81f07cd1>\u001b[0m in \u001b[0;36m<module>\u001b[1;34m\u001b[0m\n\u001b[0;32m     10\u001b[0m \u001b[1;31m# elementwise multiplication on every row of the matrix \"c\"\u001b[0m\u001b[1;33m\u001b[0m\u001b[1;33m\u001b[0m\u001b[1;33m\u001b[0m\u001b[0m\n\u001b[0;32m     11\u001b[0m \u001b[1;33m\u001b[0m\u001b[0m\n\u001b[1;32m---> 12\u001b[1;33m \u001b[0mprint\u001b[0m\u001b[1;33m(\u001b[0m\u001b[0ma\u001b[0m \u001b[1;33m*\u001b[0m \u001b[0me\u001b[0m\u001b[1;33m)\u001b[0m \u001b[1;31m# since a and e don't have the same number of columns, this\u001b[0m\u001b[1;33m\u001b[0m\u001b[1;33m\u001b[0m\u001b[0m\n\u001b[0m\u001b[0;32m     13\u001b[0m \u001b[1;31m# throws a \"Value Error: operands could not be broadcast together with..\"\u001b[0m\u001b[1;33m\u001b[0m\u001b[1;33m\u001b[0m\u001b[1;33m\u001b[0m\u001b[0m\n",
      "\u001b[1;31mValueError\u001b[0m: operands could not be broadcast together with shapes (4,) (2,5) "
     ]
    }
   ],
   "source": [
    "print(a * 0.1) # multiplies every number in vector \"a\" by 0.1\n",
    "      \n",
    "print(c * 0.2) # multiplies every number in matrix \"c\" by 0.2\n",
    "      \n",
    "print(a * b) # multiplies elementwise between a and b (columns paired up)\n",
    "      \n",
    "print(a * b * 0.2) # elementwise multiplication then multiplied by 0.2\n",
    "      \n",
    "print(a * c) # since c has the same number of columns as a, this performs\n",
    "# elementwise multiplication on every row of the matrix \"c\"\n",
    "\n",
    "print(a * e) # since a and e don't have the same number of columns, this\n",
    "# throws a \"Value Error: operands could not be broadcast together with..\""
   ]
  },
  {
   "cell_type": "code",
   "execution_count": 34,
   "id": "ec36e544",
   "metadata": {},
   "outputs": [
    {
     "name": "stdout",
     "output_type": "stream",
     "text": [
      "(1, 3)\n"
     ]
    }
   ],
   "source": [
    "a = np.zeros((1,4)) # vector of length 4\n",
    "b = np.zeros((4,3)) # matrix with 4 rows & 3 columns\n",
    "\n",
    "c = a.dot(b)\n",
    "print(c.shape)"
   ]
  },
  {
   "cell_type": "code",
   "execution_count": 35,
   "id": "ea675d4d",
   "metadata": {},
   "outputs": [
    {
     "name": "stdout",
     "output_type": "stream",
     "text": [
      "(2, 3)\n",
      "(2, 3)\n",
      "(4, 6)\n"
     ]
    },
    {
     "ename": "ValueError",
     "evalue": "shapes (5,4) and (5,6) not aligned: 4 (dim 1) != 5 (dim 0)",
     "output_type": "error",
     "traceback": [
      "\u001b[1;31m---------------------------------------------------------------------------\u001b[0m",
      "\u001b[1;31mValueError\u001b[0m                                Traceback (most recent call last)",
      "\u001b[1;32m<ipython-input-35-eaa970ddaf33>\u001b[0m in \u001b[0;36m<module>\u001b[1;34m\u001b[0m\n\u001b[0;32m     19\u001b[0m \u001b[0mh\u001b[0m \u001b[1;33m=\u001b[0m \u001b[0mnp\u001b[0m\u001b[1;33m.\u001b[0m\u001b[0mzeros\u001b[0m\u001b[1;33m(\u001b[0m\u001b[1;33m(\u001b[0m\u001b[1;36m5\u001b[0m\u001b[1;33m,\u001b[0m\u001b[1;36m4\u001b[0m\u001b[1;33m)\u001b[0m\u001b[1;33m)\u001b[0m \u001b[1;31m# matrix with 5 rows and 4 columns\u001b[0m\u001b[1;33m\u001b[0m\u001b[1;33m\u001b[0m\u001b[0m\n\u001b[0;32m     20\u001b[0m \u001b[0mi\u001b[0m \u001b[1;33m=\u001b[0m \u001b[0mnp\u001b[0m\u001b[1;33m.\u001b[0m\u001b[0mzeros\u001b[0m\u001b[1;33m(\u001b[0m\u001b[1;33m(\u001b[0m\u001b[1;36m5\u001b[0m\u001b[1;33m,\u001b[0m\u001b[1;36m6\u001b[0m\u001b[1;33m)\u001b[0m\u001b[1;33m)\u001b[0m \u001b[1;31m# matrix with 5 rows & 6 columns\u001b[0m\u001b[1;33m\u001b[0m\u001b[1;33m\u001b[0m\u001b[0m\n\u001b[1;32m---> 21\u001b[1;33m \u001b[0mj\u001b[0m \u001b[1;33m=\u001b[0m \u001b[0mh\u001b[0m\u001b[1;33m.\u001b[0m\u001b[0mdot\u001b[0m\u001b[1;33m(\u001b[0m\u001b[0mi\u001b[0m\u001b[1;33m)\u001b[0m\u001b[1;33m\u001b[0m\u001b[1;33m\u001b[0m\u001b[0m\n\u001b[0m\u001b[0;32m     22\u001b[0m \u001b[0mprint\u001b[0m\u001b[1;33m(\u001b[0m\u001b[0mj\u001b[0m\u001b[1;33m.\u001b[0m\u001b[0mshape\u001b[0m\u001b[1;33m)\u001b[0m \u001b[1;31m# throws an error\u001b[0m\u001b[1;33m\u001b[0m\u001b[1;33m\u001b[0m\u001b[0m\n",
      "\u001b[1;31mValueError\u001b[0m: shapes (5,4) and (5,6) not aligned: 4 (dim 1) != 5 (dim 0)"
     ]
    }
   ],
   "source": [
    "a = np.zeros((2,4)) # matrix with 2 rows and 4 columns\n",
    "b = np.zeros((4,3)) # matrix with 4 rows & 3 columns\n",
    "\n",
    "c = a.dot(b)\n",
    "print(c.shape) # outputs (2,3)\n",
    "\n",
    "e = np.zeros((2,1)) # matrix with 2 rows and 1 columns\n",
    "f = np.zeros((1,3)) # matrix with 1 row & 3 columns\n",
    "\n",
    "g = e.dot(f)\n",
    "print(g.shape) # outputs (2,3)\n",
    "\n",
    "h = np.zeros((5,4)).T # matrix with 4 rows and 5 columns\n",
    "i = np.zeros((5,6)) # matrix with 6 rows & 5 columns\n",
    "\n",
    "j = h.dot(i)\n",
    "print(j.shape) # outputs (4,6)\n",
    "\n",
    "h = np.zeros((5,4)) # matrix with 5 rows and 4 columns\n",
    "i = np.zeros((5,6)) # matrix with 5 rows & 6 columns\n",
    "j = h.dot(i)\n",
    "print(j.shape) # throws an error"
   ]
  },
  {
   "cell_type": "code",
   "execution_count": null,
   "id": "10bc18d8",
   "metadata": {},
   "outputs": [],
   "source": []
  }
 ],
 "metadata": {
  "kernelspec": {
   "display_name": "Python 3",
   "language": "python",
   "name": "python3"
  },
  "language_info": {
   "codemirror_mode": {
    "name": "ipython",
    "version": 3
   },
   "file_extension": ".py",
   "mimetype": "text/x-python",
   "name": "python",
   "nbconvert_exporter": "python",
   "pygments_lexer": "ipython3",
   "version": "3.8.8"
  }
 },
 "nbformat": 4,
 "nbformat_minor": 5
}
