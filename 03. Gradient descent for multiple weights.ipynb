{
 "cells": [
  {
   "cell_type": "markdown",
   "id": "cb9b1340",
   "metadata": {},
   "source": [
    "## Gradient Descent Learning with Multiple Inputs"
   ]
  },
  {
   "cell_type": "code",
   "execution_count": 2,
   "id": "46123331",
   "metadata": {},
   "outputs": [
    {
     "name": "stdout",
     "output_type": "stream",
     "text": [
      "Weights:[0.1119, 0.20091, -0.09832]\n",
      "Weight Deltas:[-1.189999999999999, -0.09099999999999994, -0.16799999999999987]\n"
     ]
    }
   ],
   "source": [
    "def weighted_sum(a,b):\n",
    "    assert(len(a) == len(b))\n",
    "    output = 0\n",
    "\n",
    "    for i in range(len(a)):\n",
    "        output += (a[i] * b[i])\n",
    "\n",
    "    return output\n",
    "\n",
    "weights = [0.1, 0.2, -.1] \n",
    "\n",
    "def my_neural_network(input,weights):\n",
    "    pred = weighted_sum(input,weights)\n",
    "    return pred\n",
    "\n",
    "eng =  [8.5, 9.5, 9.9, 9.0]\n",
    "hindi = [0.65, 0.8, 0.8, 0.9]\n",
    "maths = [1.2, 1.3, 0.5, 1.0]\n",
    "\n",
    "result = [1, 1, 0, 1]\n",
    "\n",
    "true = result[0]\n",
    "\n",
    "# Input corresponds to every entry\n",
    "# for the first student.\n",
    "\n",
    "input = [eng[0],hindi[0],maths[0]]\n",
    "\n",
    "pred = my_neural_network(input,weights)\n",
    "error = (pred - true) ** 2\n",
    "delta = pred - true\n",
    "\n",
    "def ele_mul(number,vector):\n",
    "    output = [0,0,0]\n",
    "\n",
    "    assert(len(output) == len(vector))\n",
    "\n",
    "    for i in range(len(vector)):\n",
    "        output[i] = number * vector[i]\n",
    "\n",
    "    return output\n",
    "\n",
    "weight_deltas = ele_mul(delta,input)\n",
    "\n",
    "alpha = 0.01\n",
    "\n",
    "for i in range(len(weights)):\n",
    "    weights[i] -= alpha * weight_deltas[i]\n",
    "    \n",
    "print(\"Weights:\" + str(weights))\n",
    "print(\"Weight Deltas:\" + str(weight_deltas))\n"
   ]
  },
  {
   "cell_type": "markdown",
   "id": "be6f0b16",
   "metadata": {},
   "source": [
    "## Let's Watch Several Steps of Learning"
   ]
  },
  {
   "cell_type": "code",
   "execution_count": 3,
   "id": "5ecdcea5",
   "metadata": {},
   "outputs": [
    {
     "name": "stdout",
     "output_type": "stream",
     "text": [
      "Iteration:1\n",
      "Pred:0.8600000000000001\n",
      "Error:0.01959999999999997\n",
      "Delta:-0.1399999999999999\n",
      "Weights:[0.1, 0.2, -0.1]\n",
      "Weight_Deltas:\n",
      "[-1.189999999999999, -0.09099999999999994, -0.16799999999999987]\n",
      "\n",
      "Iteration:2\n",
      "Pred:0.9637574999999999\n",
      "Error:0.0013135188062500048\n",
      "Delta:-0.036242500000000066\n",
      "Weights:[0.1119, 0.20091, -0.09832]\n",
      "Weight_Deltas:\n",
      "[-0.30806125000000056, -0.023557625000000044, -0.04349100000000008]\n",
      "\n",
      "Iteration:3\n",
      "Pred:0.9906177228125002\n",
      "Error:8.802712522307997e-05\n",
      "Delta:-0.009382277187499843\n",
      "Weights:[0.11498061250000001, 0.20114557625, -0.09788509000000001]\n",
      "Weight_Deltas:\n",
      "[-0.07974935609374867, -0.006098480171874899, -0.011258732624999811]\n",
      "\n"
     ]
    }
   ],
   "source": [
    "def neural_network(input, weights):\n",
    "  out = 0\n",
    "  for i in range(len(input)):\n",
    "    out += (input[i] * weights[i])\n",
    "  return out\n",
    "\n",
    "def ele_mul(scalar, vector):\n",
    "  out = [0,0,0]\n",
    "  for i in range(len(out)):\n",
    "    out[i] = vector[i] * scalar\n",
    "  return out\n",
    "\n",
    "eng =  [8.5, 9.5, 9.9, 9.0]\n",
    "hindi = [0.65, 0.8, 0.8, 0.9]\n",
    "maths = [1.2, 1.3, 0.5, 1.0]\n",
    "\n",
    "result = [1, 1, 0, 1]\n",
    "true = result[0]\n",
    "\n",
    "alpha = 0.01\n",
    "weights = [0.1, 0.2, -.1]\n",
    "input = [eng[0],hindi[0],maths[0]]\n",
    "\n",
    "for iter in range(3):\n",
    "\n",
    "  pred = neural_network(input,weights)\n",
    "\n",
    "  error = (pred - true) ** 2\n",
    "  delta = pred - true\n",
    "\n",
    "  weight_deltas=ele_mul(delta,input)\n",
    "\n",
    "  print(\"Iteration:\" + str(iter+1))\n",
    "  print(\"Pred:\" + str(pred))\n",
    "  print(\"Error:\" + str(error))\n",
    "  print(\"Delta:\" + str(delta))\n",
    "  print(\"Weights:\" + str(weights))\n",
    "  print(\"Weight_Deltas:\")\n",
    "  print(str(weight_deltas))\n",
    "  print(\n",
    "  )\n",
    "\n",
    "  for i in range(len(weights)):\n",
    "    weights[i]-=alpha*weight_deltas[i]\n"
   ]
  },
  {
   "cell_type": "markdown",
   "id": "d8e650b7",
   "metadata": {},
   "source": [
    "## Freezing One Weight - What Does It Do?"
   ]
  },
  {
   "cell_type": "code",
   "execution_count": 4,
   "id": "3ef7ed4b",
   "metadata": {},
   "outputs": [
    {
     "name": "stdout",
     "output_type": "stream",
     "text": [
      "Iteration:1\n",
      "Pred:0.8600000000000001\n",
      "Error:0.01959999999999997\n",
      "Delta:-0.1399999999999999\n",
      "Weights:[0.1, 0.2, -0.1]\n",
      "Weight_Deltas:\n",
      "[0, -0.09099999999999994, -0.16799999999999987]\n",
      "\n",
      "Iteration:2\n",
      "Pred:0.9382250000000001\n",
      "Error:0.003816150624999989\n",
      "Delta:-0.06177499999999991\n",
      "Weights:[0.1, 0.2273, -0.04960000000000005]\n",
      "Weight_Deltas:\n",
      "[0, -0.040153749999999946, -0.07412999999999989]\n",
      "\n",
      "Iteration:3\n",
      "Pred:0.97274178125\n",
      "Error:0.000743010489422852\n",
      "Delta:-0.027258218750000007\n",
      "Weights:[0.1, 0.239346125, -0.02736100000000008]\n",
      "Weight_Deltas:\n",
      "[0, -0.017717842187500006, -0.032709862500000006]\n",
      "\n"
     ]
    }
   ],
   "source": [
    "def neural_network(input, weights):\n",
    "  out = 0\n",
    "  for i in range(len(input)):\n",
    "    out += (input[i] * weights[i])\n",
    "  return out\n",
    "\n",
    "def ele_mul(scalar, vector):\n",
    "  out = [0,0,0]\n",
    "  for i in range(len(out)):\n",
    "    out[i] = vector[i] * scalar\n",
    "  return out\n",
    "\n",
    "toes =  [8.5, 9.5, 9.9, 9.0]\n",
    "wlrec = [0.65, 0.8, 0.8, 0.9]\n",
    "nfans = [1.2, 1.3, 0.5, 1.0]\n",
    "\n",
    "win_or_lose_binary = [1, 1, 0, 1]\n",
    "true = win_or_lose_binary[0]\n",
    "\n",
    "alpha = 0.3\n",
    "weights = [0.1, 0.2, -.1]\n",
    "input = [toes[0],wlrec[0],nfans[0]]\n",
    "\n",
    "for iter in range(3):\n",
    "\n",
    "  pred = neural_network(input,weights)\n",
    "\n",
    "  error = (pred - true) ** 2\n",
    "  delta = pred - true\n",
    "\n",
    "  weight_deltas=ele_mul(delta,input)\n",
    "  weight_deltas[0] = 0\n",
    "\n",
    "  print(\"Iteration:\" + str(iter+1))\n",
    "  print(\"Pred:\" + str(pred))\n",
    "  print(\"Error:\" + str(error))\n",
    "  print(\"Delta:\" + str(delta))\n",
    "  print(\"Weights:\" + str(weights))\n",
    "  print(\"Weight_Deltas:\")\n",
    "  print(str(weight_deltas))\n",
    "  print(\n",
    "  )\n",
    "\n",
    "  for i in range(len(weights)):\n",
    "    weights[i]-=alpha*weight_deltas[i]\n"
   ]
  },
  {
   "cell_type": "markdown",
   "id": "8ecfd14e",
   "metadata": {},
   "source": [
    "## Gradient Descent Learning with Multiple Outputs"
   ]
  },
  {
   "cell_type": "code",
   "execution_count": 6,
   "id": "14f9a9e1",
   "metadata": {},
   "outputs": [
    {
     "name": "stdout",
     "output_type": "stream",
     "text": [
      "Weights:[0.293825, 0.25655, 0.868475]\n",
      "Weight Deltas:[0.061750000000000006, -0.5655, 0.3152500000000001]\n"
     ]
    }
   ],
   "source": [
    "weights = [0.3, 0.2, 0.9] \n",
    "\n",
    "def my_neural_network(input, weights):\n",
    "    pred = ele_mul(input,weights)\n",
    "    return pred\n",
    "\n",
    "marks = [0.65, 1.0, 1.0, 0.9]\n",
    "\n",
    "passed  = [0.1, 0.0, 0.0, 0.1]\n",
    "fail  = [  1,   1,   0,   1]\n",
    "compartment   = [0.1, 0.0, 0.1, 0.2]\n",
    "\n",
    "input = marks[0]\n",
    "true = [passed[0],fail[0], compartment[0]]\n",
    "\n",
    "pred = my_neural_network(input,weights)\n",
    "\n",
    "error = [0, 0, 0] \n",
    "delta = [0, 0, 0]\n",
    "\n",
    "for i in range(len(true)):\n",
    "    error[i] = (pred[i] - true[i]) ** 2\n",
    "    delta[i] = pred[i] - true[i]\n",
    "    \n",
    "def scalar_ele_mul(number,vector):\n",
    "    output = [0,0,0]\n",
    "\n",
    "    assert(len(output) == len(vector))\n",
    "\n",
    "    for i in range(len(vector)):\n",
    "        output[i] = number * vector[i]\n",
    "\n",
    "    return output\n",
    "\n",
    "weight_deltas = scalar_ele_mul(input,delta)\n",
    "\n",
    "alpha = 0.1\n",
    "\n",
    "for i in range(len(weights)):\n",
    "    weights[i] -= (weight_deltas[i] * alpha)\n",
    "    \n",
    "print(\"Weights:\" + str(weights))\n",
    "print(\"Weight Deltas:\" + str(weight_deltas))\n"
   ]
  },
  {
   "cell_type": "markdown",
   "id": "4cc1eedd",
   "metadata": {},
   "source": [
    "## Gradient Descent with Multiple Inputs & Outputs"
   ]
  },
  {
   "cell_type": "code",
   "execution_count": 10,
   "id": "7b6cb78c",
   "metadata": {},
   "outputs": [],
   "source": [
    "\n",
    "weights = [ [0.1, 0.1, -0.3],#pass\n",
    "            [0.1, 0.2, 0.0], #fail\n",
    "            [0.0, 1.3, 0.1] ]#compartment\n",
    "\n",
    "def w_sum(a,b):\n",
    "    assert(len(a) == len(b))\n",
    "    output = 0\n",
    "\n",
    "    for i in range(len(a)):\n",
    "        output += (a[i] * b[i])\n",
    "\n",
    "    return output\n",
    "\n",
    "def vect_mat_mul(vect,matrix):\n",
    "    assert(len(vect) == len(matrix))\n",
    "    output = [0,0,0]\n",
    "    for i in range(len(vect)):\n",
    "        output[i] = w_sum(vect,matrix[i])\n",
    "    return output\n",
    "\n",
    "def neural_network(input, weights):\n",
    "    pred = vect_mat_mul(input,weights)\n",
    "    return pred\n",
    "\n",
    "eng  = [8.5, 9.5, 9.9, 9.0]\n",
    "hindi = [0.65,0.8, 0.8, 0.9]\n",
    "maths = [1.2, 1.3, 0.5, 1.0]\n",
    "\n",
    "passed  = [0.1, 0.0, 0.0, 0.1]\n",
    "fail   = [  1,   1,   0,   1]\n",
    "compartment   = [0.1, 0.0, 0.1, 0.2]\n",
    "\n",
    "alpha = 0.01\n",
    "\n",
    "input = [eng[0],hindi[0],maths[0]]\n",
    "true  = [passed[0], fail[0], compartment[0]]\n",
    "\n",
    "pred = neural_network(input,weights)\n",
    "\n",
    "error = [0, 0, 0] \n",
    "delta = [0, 0, 0]\n",
    "\n",
    "for i in range(len(true)):\n",
    "    error[i] = (pred[i] - true[i]) ** 2\n",
    "    delta[i] = pred[i] - true[i]\n"
   ]
  },
  {
   "cell_type": "code",
   "execution_count": 11,
   "id": "2b649d32",
   "metadata": {},
   "outputs": [],
   "source": [
    "import numpy as np\n",
    "def outer_prod(a, b):\n",
    "    \n",
    "    # just a matrix of zeros\n",
    "    out = np.zeros((len(a), len(b)))\n",
    "\n",
    "    for i in range(len(a)):\n",
    "        for j in range(len(b)):\n",
    "            out[i][j] = a[i] * b[j]\n",
    "    return out\n",
    "\n",
    "weight_deltas = outer_prod(delta,input)\n",
    "\n",
    "for i in range(len(weights)):\n",
    "    for j in range(len(weights[0])):\n",
    "        weights[i][j] -= alpha * weight_deltas[i][j]"
   ]
  },
  {
   "cell_type": "code",
   "execution_count": 12,
   "id": "f7614478",
   "metadata": {},
   "outputs": [
    {
     "data": {
      "text/plain": [
       "[[0.061325, 0.0970425, -0.30546],\n",
       " [0.1017, 0.20013, 0.00023999999999999887],\n",
       " [-0.07352500000000001, 1.2943775, 0.08962]]"
      ]
     },
     "execution_count": 12,
     "metadata": {},
     "output_type": "execute_result"
    }
   ],
   "source": [
    "weights"
   ]
  },
  {
   "cell_type": "code",
   "execution_count": null,
   "id": "6df76d79",
   "metadata": {},
   "outputs": [],
   "source": []
  }
 ],
 "metadata": {
  "kernelspec": {
   "display_name": "Python 3",
   "language": "python",
   "name": "python3"
  },
  "language_info": {
   "codemirror_mode": {
    "name": "ipython",
    "version": 3
   },
   "file_extension": ".py",
   "mimetype": "text/x-python",
   "name": "python",
   "nbconvert_exporter": "python",
   "pygments_lexer": "ipython3",
   "version": "3.8.8"
  }
 },
 "nbformat": 4,
 "nbformat_minor": 5
}
